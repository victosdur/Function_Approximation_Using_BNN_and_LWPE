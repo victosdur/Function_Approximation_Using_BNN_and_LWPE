{
 "cells": [
  {
   "cell_type": "code",
   "execution_count": 67,
   "id": "409947d2",
   "metadata": {},
   "outputs": [],
   "source": [
    "import numpy as np\n",
    "import tensorflow as tf\n",
    "from tensorflow.keras import layers, Model, activations\n",
    "from tensorflow .keras.layers import Layer\n",
    "\n",
    "\n",
    "def stepestrella(x):\n",
    "    return tf.cast(x > 0, dtype=tf.float32)\n",
    "\n",
    "class CustomDense(tf.keras.layers.Layer):\n",
    "    def __init__(self, weights, biases, activations):\n",
    "        super(CustomDense, self).__init__()\n",
    "        self.fixed_weights = tf.constant(weights, dtype=tf.float32)\n",
    "        self.fixed_biases = tf.constant(biases, dtype=tf.float32)\n",
    "        self.activations = activations  # lista de funciones\n",
    "    def call(self, inputs):\n",
    "        z = tf.matmul(inputs, self.fixed_weights)\n",
    "        z = tf.add(z, self.fixed_biases)\n",
    "        if isinstance(self.activations, list):\n",
    "            out = tf.stack([self.activations[i](z[:, i]) for i in range(z.shape[1])], axis=1)\n",
    "        else:\n",
    "            out = self.activations(z)\n",
    "        return out\n",
    "    \n",
    "class BaricentricNetworkSegment(Model):\n",
    "    def __init__(self, a, b, fa, fb, **kwargs):\n",
    "        super(BaricentricNetworkSegment, self).__init__(**kwargs)\n",
    "        self.a = a\n",
    "        self.b = b\n",
    "        self.fa = fa\n",
    "        self.fb = fb\n",
    "        # Layer 1: 4 neurons\n",
    "        w1 = [[1., -1., 1., -1.]]  # input_dim=1, output_dim=4\n",
    "        b1 = [0., 0., -1., 1.]\n",
    "        act1 = [tf.nn.relu, stepestrella, stepestrella, tf.nn.relu]\n",
    "\n",
    "        self.layer1 = CustomDense(w1, b1, act1)\n",
    "\n",
    "        # Layer 2: 2 neurons\n",
    "        w2 = [[-1., 0.], [-2., -2.], [-2., -2.], [0., -1.]]  # 4x2\n",
    "        b2 = [1.0, 1.0]\n",
    "        act2 = tf.nn.relu\n",
    "\n",
    "        self.layer2 = CustomDense(w2, b2, act2)\n",
    "\n",
    "        # Layer 3: 1 neuron\n",
    "        w3 = [[self.fa], [self.fb]]  # 2x1\n",
    "        b3 = [0.]\n",
    "        act3 = tf.identity\n",
    "\n",
    "        self.layer3 = CustomDense(w3, b3, act3)\n",
    "\n",
    "    def call(self, x):\n",
    "        t = (x - self.a) / (self.b - self.a)\n",
    "        z = self.layer1(t)\n",
    "        z = self.layer2(z)\n",
    "        z = self.layer3(z)\n",
    "        return z\n",
    "    \n",
    "class BaricentricNetwork(Model):\n",
    "    def __init__(self, points):\n",
    "        super(BaricentricNetwork, self).__init__()\n",
    "        self.x_coords = points[:,0]\n",
    "        self.y_values = points[:,1]\n",
    "        num_segments = len(self.x_coords) - 1 \n",
    "        self.subnets = [BaricentricNetworkSegment(a = self.x_coords[i], b = self.x_coords[i+1], fa = self.y_values[i], fb = self.y_values[i+1]) for i in range(num_segments)]\n",
    "        print(self.subnets)\n",
    "    def call(self, x):\n",
    "        outputs = [subnet(x) for subnet in self.subnets]\n",
    "        return tf.add_n(outputs)"
   ]
  },
  {
   "cell_type": "code",
   "execution_count": 76,
   "id": "05e8a389",
   "metadata": {},
   "outputs": [],
   "source": [
    "Model = BaricentricNetworkSegment(a=1., b=3., fa=4., fb=2.)"
   ]
  },
  {
   "cell_type": "code",
   "execution_count": 77,
   "id": "8bd78ad9",
   "metadata": {},
   "outputs": [
    {
     "name": "stdout",
     "output_type": "stream",
     "text": [
      "tf.Tensor(\n",
      "[[0.]\n",
      " [4.]\n",
      " [3.]\n",
      " [2.]\n",
      " [0.]], shape=(5, 1), dtype=float32)\n"
     ]
    }
   ],
   "source": [
    "output = Model(tf.constant([[0.99],[1.],[2.],[3.0],[3.01]]))  # Example input to test the model\n",
    "print(output)  # Should print the shape of the output tensor"
   ]
  },
  {
   "cell_type": "code",
   "execution_count": 79,
   "id": "64fe9600",
   "metadata": {},
   "outputs": [
    {
     "name": "stdout",
     "output_type": "stream",
     "text": [
      "(100, 1)\n"
     ]
    }
   ],
   "source": [
    "x_values=tf.expand_dims(tf.linspace(0,7,100),axis=1)\n",
    "output = Model(x_values)  # Example input to test the model\n",
    "print(output.shape)  # Should print the shape of the output tensor"
   ]
  },
  {
   "cell_type": "code",
   "execution_count": 86,
   "id": "cb92a173",
   "metadata": {},
   "outputs": [
    {
     "data": {
      "text/plain": [
       "<Figure size 1000x600 with 0 Axes>"
      ]
     },
     "metadata": {},
     "output_type": "display_data"
    },
    {
     "data": {
      "image/png": "[encoded data removed]",
      "text/plain": [
       "<Figure size 600x600 with 1 Axes>"
      ]
     },
     "metadata": {},
     "output_type": "display_data"
    }
   ],
   "source": [
    "import matplotlib.pyplot as plt\n",
    "plt.figure(figsize=(10, 6))\n",
    "x1, y1 = 1, 4\n",
    "x2, y2 = 3, 2\n",
    "\n",
    "plt.figure(figsize=(6, 6))\n",
    "plt.plot([x1, x2], [y1, y2], 'b--', label=\"Linear function between points\")  \n",
    "plt.scatter([x1, x2], [y1, y2], color='red', label=\"Points\")    \n",
    "\n",
    "plt.text(x1, y1, f\"({x1}, {y1})\", fontsize=12)\n",
    "plt.text(x2, y2, f\"({x2}, {y2})\", fontsize=12)\n",
    "\n",
    "plt.plot(x_values, output, 'r-', label='$BNN(x)$',alpha=0.5)\n",
    "plt.ylim(bottom=-0.5)\n",
    "plt.xlabel('x')\n",
    "plt.ylabel('y')\n",
    "plt.xlabel('$x$')\n",
    "plt.ylabel('$y$')\n",
    "plt.title('Linear function representation with BNN')\n",
    "\n",
    "plt.show()"
   ]
  },
  {
   "cell_type": "code",
   "execution_count": 87,
   "id": "3d0c730c",
   "metadata": {},
   "outputs": [
    {
     "name": "stdout",
     "output_type": "stream",
     "text": [
      "[<BaricentricNetworkSegment name=baricentric_network_segment_17, built=False>, <BaricentricNetworkSegment name=baricentric_network_segment_18, built=False>]\n"
     ]
    }
   ],
   "source": [
    "points=np.array([[1,2],[3,4],[5,8]],dtype = np.float32)\n",
    "model = BaricentricNetwork(points)"
   ]
  },
  {
   "cell_type": "code",
   "execution_count": 88,
   "id": "e9af0748",
   "metadata": {},
   "outputs": [
    {
     "name": "stdout",
     "output_type": "stream",
     "text": [
      "tf.Tensor(\n",
      "[[0.]\n",
      " [2.]\n",
      " [3.]\n",
      " [8.]\n",
      " [6.]\n",
      " [8.]\n",
      " [0.]], shape=(7, 1), dtype=float32)\n"
     ]
    }
   ],
   "source": [
    "output = model(tf.constant([[0.99],[1.],[2.],[3.0],[4.],[5.],[5.01]]))  # Example input to test the model\n",
    "print(output) "
   ]
  },
  {
   "cell_type": "code",
   "execution_count": 90,
   "id": "0d6e3d3b",
   "metadata": {},
   "outputs": [
    {
     "name": "stdout",
     "output_type": "stream",
     "text": [
      "(100, 1)\n"
     ]
    },
    {
     "data": {
      "text/plain": [
       "<Figure size 1000x600 with 0 Axes>"
      ]
     },
     "metadata": {},
     "output_type": "display_data"
    },
    {
     "data": {
      "image/png": "[encoded data removed]",
      "text/plain": [
       "<Figure size 1000x600 with 1 Axes>"
      ]
     },
     "metadata": {},
     "output_type": "display_data"
    }
   ],
   "source": [
    "x_values=tf.expand_dims(tf.linspace(0,7,100),axis=1)\n",
    "output = model(x_values)  # Example input to test the model\n",
    "print(output.shape) \n",
    "\n",
    "plt.figure(figsize=(10, 6))\n",
    "xs = [point[0] for point in points]\n",
    "ys = [point[1] for point in points]\n",
    "\n",
    "plt.figure(figsize=(10, 6))\n",
    "plt.plot(xs, ys, 'b-', label=\"f(x)\", alpha=0.5)\n",
    "plt.plot(x_values, output, 'r--', label='$BNN(x)$', alpha=0.5)\n",
    "plt.xlim((0,7))\n",
    "plt.ylim(bottom=-0.5)\n",
    "plt.xlabel('x')\n",
    "plt.ylabel('y')\n",
    "# plt.savefig('figures/BNNRepresentationCPLFExample1Tf.png', dpi=300, bbox_inches='tight')\n",
    "plt.show()"
   ]
  }
 ],
 "metadata": {
  "kernelspec": {
   "display_name": "env",
   "language": "python",
   "name": "python3"
  },
  "language_info": {
   "codemirror_mode": {
    "name": "ipython",
    "version": 3
   },
   "file_extension": ".py",
   "mimetype": "text/x-python",
   "name": "python",
   "nbconvert_exporter": "python",
   "pygments_lexer": "ipython3",
   "version": "3.9.13"
  }
 },
 "nbformat": 4,
 "nbformat_minor": 5
}
